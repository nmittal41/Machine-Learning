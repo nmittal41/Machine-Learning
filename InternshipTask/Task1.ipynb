{
 "cells": [
  {
   "cell_type": "code",
   "execution_count": 2,
   "metadata": {},
   "outputs": [],
   "source": [
    "import numpy as np\n",
    "import pandas as pd\n",
    "import matplotlib.pyplot as plt\n",
    "import seaborn as sns"
   ]
  },
  {
   "cell_type": "markdown",
   "metadata": {},
   "source": [
    "# Reading dataset using pandas"
   ]
  },
  {
   "cell_type": "code",
   "execution_count": 3,
   "metadata": {},
   "outputs": [],
   "source": [
    "data=pd.read_csv('DSDataLastThreeMonths.csv')"
   ]
  },
  {
   "cell_type": "code",
   "execution_count": 4,
   "metadata": {
    "scrolled": true
   },
   "outputs": [
    {
     "data": {
      "text/html": [
       "<div>\n",
       "<style scoped>\n",
       "    .dataframe tbody tr th:only-of-type {\n",
       "        vertical-align: middle;\n",
       "    }\n",
       "\n",
       "    .dataframe tbody tr th {\n",
       "        vertical-align: top;\n",
       "    }\n",
       "\n",
       "    .dataframe thead th {\n",
       "        text-align: right;\n",
       "    }\n",
       "</style>\n",
       "<table border=\"1\" class=\"dataframe\">\n",
       "  <thead>\n",
       "    <tr style=\"text-align: right;\">\n",
       "      <th></th>\n",
       "      <th>CASTNO</th>\n",
       "      <th>HM_WT</th>\n",
       "      <th>AIM_S</th>\n",
       "      <th>HM_S</th>\n",
       "      <th>HM_C</th>\n",
       "      <th>HM_SI</th>\n",
       "      <th>HM_TI</th>\n",
       "      <th>HM_MN</th>\n",
       "      <th>CAC2</th>\n",
       "      <th>MG</th>\n",
       "      <th>HM_TEMP</th>\n",
       "      <th>CAC2_INJ_TIME</th>\n",
       "      <th>MG_INJ_TIME</th>\n",
       "      <th>DS_S</th>\n",
       "    </tr>\n",
       "  </thead>\n",
       "  <tbody>\n",
       "    <tr>\n",
       "      <th>0</th>\n",
       "      <td>V99790</td>\n",
       "      <td>171</td>\n",
       "      <td>0.005</td>\n",
       "      <td>0.040</td>\n",
       "      <td>4.572</td>\n",
       "      <td>0.518</td>\n",
       "      <td>0.069</td>\n",
       "      <td>0.040</td>\n",
       "      <td>347</td>\n",
       "      <td>49</td>\n",
       "      <td>1387.0</td>\n",
       "      <td>10</td>\n",
       "      <td>4</td>\n",
       "      <td>0.009</td>\n",
       "    </tr>\n",
       "    <tr>\n",
       "      <th>1</th>\n",
       "      <td>V99791</td>\n",
       "      <td>161</td>\n",
       "      <td>0.005</td>\n",
       "      <td>0.035</td>\n",
       "      <td>4.580</td>\n",
       "      <td>0.559</td>\n",
       "      <td>0.070</td>\n",
       "      <td>0.041</td>\n",
       "      <td>361</td>\n",
       "      <td>45</td>\n",
       "      <td>1386.0</td>\n",
       "      <td>10</td>\n",
       "      <td>4</td>\n",
       "      <td>0.007</td>\n",
       "    </tr>\n",
       "    <tr>\n",
       "      <th>2</th>\n",
       "      <td>V99789</td>\n",
       "      <td>170</td>\n",
       "      <td>0.005</td>\n",
       "      <td>0.042</td>\n",
       "      <td>4.590</td>\n",
       "      <td>0.468</td>\n",
       "      <td>0.044</td>\n",
       "      <td>0.036</td>\n",
       "      <td>355</td>\n",
       "      <td>52</td>\n",
       "      <td>1368.0</td>\n",
       "      <td>9</td>\n",
       "      <td>4</td>\n",
       "      <td>0.013</td>\n",
       "    </tr>\n",
       "    <tr>\n",
       "      <th>3</th>\n",
       "      <td>V99787</td>\n",
       "      <td>159</td>\n",
       "      <td>0.005</td>\n",
       "      <td>0.034</td>\n",
       "      <td>4.530</td>\n",
       "      <td>0.737</td>\n",
       "      <td>0.077</td>\n",
       "      <td>0.040</td>\n",
       "      <td>313</td>\n",
       "      <td>44</td>\n",
       "      <td>1401.0</td>\n",
       "      <td>9</td>\n",
       "      <td>4</td>\n",
       "      <td>0.010</td>\n",
       "    </tr>\n",
       "    <tr>\n",
       "      <th>4</th>\n",
       "      <td>V99782</td>\n",
       "      <td>162</td>\n",
       "      <td>0.005</td>\n",
       "      <td>0.042</td>\n",
       "      <td>4.560</td>\n",
       "      <td>0.443</td>\n",
       "      <td>0.056</td>\n",
       "      <td>0.037</td>\n",
       "      <td>360</td>\n",
       "      <td>55</td>\n",
       "      <td>1346.0</td>\n",
       "      <td>10</td>\n",
       "      <td>5</td>\n",
       "      <td>0.013</td>\n",
       "    </tr>\n",
       "    <tr>\n",
       "      <th>5</th>\n",
       "      <td>V99781</td>\n",
       "      <td>165</td>\n",
       "      <td>0.005</td>\n",
       "      <td>0.035</td>\n",
       "      <td>4.520</td>\n",
       "      <td>0.480</td>\n",
       "      <td>0.056</td>\n",
       "      <td>0.037</td>\n",
       "      <td>323</td>\n",
       "      <td>49</td>\n",
       "      <td>1407.0</td>\n",
       "      <td>9</td>\n",
       "      <td>4</td>\n",
       "      <td>0.010</td>\n",
       "    </tr>\n",
       "    <tr>\n",
       "      <th>6</th>\n",
       "      <td>V99779</td>\n",
       "      <td>167</td>\n",
       "      <td>0.005</td>\n",
       "      <td>0.040</td>\n",
       "      <td>4.560</td>\n",
       "      <td>0.630</td>\n",
       "      <td>0.069</td>\n",
       "      <td>0.037</td>\n",
       "      <td>349</td>\n",
       "      <td>51</td>\n",
       "      <td>1395.0</td>\n",
       "      <td>10</td>\n",
       "      <td>5</td>\n",
       "      <td>0.009</td>\n",
       "    </tr>\n",
       "    <tr>\n",
       "      <th>7</th>\n",
       "      <td>V99778</td>\n",
       "      <td>163</td>\n",
       "      <td>0.005</td>\n",
       "      <td>0.040</td>\n",
       "      <td>4.560</td>\n",
       "      <td>0.547</td>\n",
       "      <td>0.057</td>\n",
       "      <td>0.036</td>\n",
       "      <td>346</td>\n",
       "      <td>78</td>\n",
       "      <td>1373.0</td>\n",
       "      <td>9</td>\n",
       "      <td>5</td>\n",
       "      <td>0.012</td>\n",
       "    </tr>\n",
       "    <tr>\n",
       "      <th>8</th>\n",
       "      <td>V99777</td>\n",
       "      <td>164</td>\n",
       "      <td>0.005</td>\n",
       "      <td>0.050</td>\n",
       "      <td>4.500</td>\n",
       "      <td>0.397</td>\n",
       "      <td>0.049</td>\n",
       "      <td>0.037</td>\n",
       "      <td>373</td>\n",
       "      <td>72</td>\n",
       "      <td>1386.0</td>\n",
       "      <td>11</td>\n",
       "      <td>7</td>\n",
       "      <td>0.004</td>\n",
       "    </tr>\n",
       "    <tr>\n",
       "      <th>9</th>\n",
       "      <td>V99776</td>\n",
       "      <td>162</td>\n",
       "      <td>0.005</td>\n",
       "      <td>0.039</td>\n",
       "      <td>4.520</td>\n",
       "      <td>0.622</td>\n",
       "      <td>0.069</td>\n",
       "      <td>0.040</td>\n",
       "      <td>344</td>\n",
       "      <td>56</td>\n",
       "      <td>1357.0</td>\n",
       "      <td>9</td>\n",
       "      <td>5</td>\n",
       "      <td>0.007</td>\n",
       "    </tr>\n",
       "  </tbody>\n",
       "</table>\n",
       "</div>"
      ],
      "text/plain": [
       "   CASTNO  HM_WT  AIM_S   HM_S   HM_C  HM_SI  HM_TI  HM_MN  CAC2  MG  HM_TEMP  \\\n",
       "0  V99790    171  0.005  0.040  4.572  0.518  0.069  0.040   347  49   1387.0   \n",
       "1  V99791    161  0.005  0.035  4.580  0.559  0.070  0.041   361  45   1386.0   \n",
       "2  V99789    170  0.005  0.042  4.590  0.468  0.044  0.036   355  52   1368.0   \n",
       "3  V99787    159  0.005  0.034  4.530  0.737  0.077  0.040   313  44   1401.0   \n",
       "4  V99782    162  0.005  0.042  4.560  0.443  0.056  0.037   360  55   1346.0   \n",
       "5  V99781    165  0.005  0.035  4.520  0.480  0.056  0.037   323  49   1407.0   \n",
       "6  V99779    167  0.005  0.040  4.560  0.630  0.069  0.037   349  51   1395.0   \n",
       "7  V99778    163  0.005  0.040  4.560  0.547  0.057  0.036   346  78   1373.0   \n",
       "8  V99777    164  0.005  0.050  4.500  0.397  0.049  0.037   373  72   1386.0   \n",
       "9  V99776    162  0.005  0.039  4.520  0.622  0.069  0.040   344  56   1357.0   \n",
       "\n",
       "   CAC2_INJ_TIME  MG_INJ_TIME   DS_S  \n",
       "0             10            4  0.009  \n",
       "1             10            4  0.007  \n",
       "2              9            4  0.013  \n",
       "3              9            4  0.010  \n",
       "4             10            5  0.013  \n",
       "5              9            4  0.010  \n",
       "6             10            5  0.009  \n",
       "7              9            5  0.012  \n",
       "8             11            7  0.004  \n",
       "9              9            5  0.007  "
      ]
     },
     "execution_count": 4,
     "metadata": {},
     "output_type": "execute_result"
    }
   ],
   "source": [
    "data.head(10)"
   ]
  },
  {
   "cell_type": "code",
   "execution_count": 5,
   "metadata": {},
   "outputs": [
    {
     "name": "stdout",
     "output_type": "stream",
     "text": [
      "<class 'pandas.core.frame.DataFrame'>\n",
      "RangeIndex: 6697 entries, 0 to 6696\n",
      "Data columns (total 14 columns):\n",
      "CASTNO           6697 non-null object\n",
      "HM_WT            6697 non-null int64\n",
      "AIM_S            6697 non-null float64\n",
      "HM_S             6697 non-null float64\n",
      "HM_C             6697 non-null float64\n",
      "HM_SI            6697 non-null float64\n",
      "HM_TI            6697 non-null float64\n",
      "HM_MN            6697 non-null float64\n",
      "CAC2             6697 non-null int64\n",
      "MG               6697 non-null int64\n",
      "HM_TEMP          6094 non-null float64\n",
      "CAC2_INJ_TIME    6697 non-null int64\n",
      "MG_INJ_TIME      6697 non-null int64\n",
      "DS_S             6697 non-null float64\n",
      "dtypes: float64(8), int64(5), object(1)\n",
      "memory usage: 732.6+ KB\n"
     ]
    }
   ],
   "source": [
    "data.info()"
   ]
  },
  {
   "cell_type": "code",
   "execution_count": 6,
   "metadata": {},
   "outputs": [],
   "source": [
    "# Above we can see all columns have 6697 entries except HM_TEMP\n",
    "# HM_TEMP has only 6097 entries.\n",
    "# To Fill missing values I have taken mean of HM_TEMP values and fitted the resulting mean into missing positions."
   ]
  },
  {
   "cell_type": "code",
   "execution_count": 7,
   "metadata": {},
   "outputs": [],
   "source": [
    "data_fit=data.fillna(data[\"HM_TEMP\"].mean())"
   ]
  },
  {
   "cell_type": "code",
   "execution_count": 8,
   "metadata": {},
   "outputs": [
    {
     "name": "stdout",
     "output_type": "stream",
     "text": [
      "<class 'pandas.core.frame.DataFrame'>\n",
      "RangeIndex: 6697 entries, 0 to 6696\n",
      "Data columns (total 14 columns):\n",
      "CASTNO           6697 non-null object\n",
      "HM_WT            6697 non-null int64\n",
      "AIM_S            6697 non-null float64\n",
      "HM_S             6697 non-null float64\n",
      "HM_C             6697 non-null float64\n",
      "HM_SI            6697 non-null float64\n",
      "HM_TI            6697 non-null float64\n",
      "HM_MN            6697 non-null float64\n",
      "CAC2             6697 non-null int64\n",
      "MG               6697 non-null int64\n",
      "HM_TEMP          6697 non-null float64\n",
      "CAC2_INJ_TIME    6697 non-null int64\n",
      "MG_INJ_TIME      6697 non-null int64\n",
      "DS_S             6697 non-null float64\n",
      "dtypes: float64(8), int64(5), object(1)\n",
      "memory usage: 732.6+ KB\n"
     ]
    }
   ],
   "source": [
    "data_fit.info()"
   ]
  },
  {
   "cell_type": "code",
   "execution_count": 9,
   "metadata": {
    "scrolled": true
   },
   "outputs": [
    {
     "data": {
      "text/html": [
       "<div>\n",
       "<style scoped>\n",
       "    .dataframe tbody tr th:only-of-type {\n",
       "        vertical-align: middle;\n",
       "    }\n",
       "\n",
       "    .dataframe tbody tr th {\n",
       "        vertical-align: top;\n",
       "    }\n",
       "\n",
       "    .dataframe thead th {\n",
       "        text-align: right;\n",
       "    }\n",
       "</style>\n",
       "<table border=\"1\" class=\"dataframe\">\n",
       "  <thead>\n",
       "    <tr style=\"text-align: right;\">\n",
       "      <th></th>\n",
       "      <th>CASTNO</th>\n",
       "      <th>HM_WT</th>\n",
       "      <th>AIM_S</th>\n",
       "      <th>HM_S</th>\n",
       "      <th>HM_C</th>\n",
       "      <th>HM_SI</th>\n",
       "      <th>HM_TI</th>\n",
       "      <th>HM_MN</th>\n",
       "      <th>CAC2</th>\n",
       "      <th>MG</th>\n",
       "      <th>HM_TEMP</th>\n",
       "      <th>CAC2_INJ_TIME</th>\n",
       "      <th>MG_INJ_TIME</th>\n",
       "      <th>DS_S</th>\n",
       "    </tr>\n",
       "  </thead>\n",
       "  <tbody>\n",
       "    <tr>\n",
       "      <th>0</th>\n",
       "      <td>V99790</td>\n",
       "      <td>171</td>\n",
       "      <td>0.005</td>\n",
       "      <td>0.040</td>\n",
       "      <td>4.572</td>\n",
       "      <td>0.518</td>\n",
       "      <td>0.069</td>\n",
       "      <td>0.040</td>\n",
       "      <td>347</td>\n",
       "      <td>49</td>\n",
       "      <td>1387.0</td>\n",
       "      <td>10</td>\n",
       "      <td>4</td>\n",
       "      <td>0.009</td>\n",
       "    </tr>\n",
       "    <tr>\n",
       "      <th>1</th>\n",
       "      <td>V99791</td>\n",
       "      <td>161</td>\n",
       "      <td>0.005</td>\n",
       "      <td>0.035</td>\n",
       "      <td>4.580</td>\n",
       "      <td>0.559</td>\n",
       "      <td>0.070</td>\n",
       "      <td>0.041</td>\n",
       "      <td>361</td>\n",
       "      <td>45</td>\n",
       "      <td>1386.0</td>\n",
       "      <td>10</td>\n",
       "      <td>4</td>\n",
       "      <td>0.007</td>\n",
       "    </tr>\n",
       "    <tr>\n",
       "      <th>2</th>\n",
       "      <td>V99789</td>\n",
       "      <td>170</td>\n",
       "      <td>0.005</td>\n",
       "      <td>0.042</td>\n",
       "      <td>4.590</td>\n",
       "      <td>0.468</td>\n",
       "      <td>0.044</td>\n",
       "      <td>0.036</td>\n",
       "      <td>355</td>\n",
       "      <td>52</td>\n",
       "      <td>1368.0</td>\n",
       "      <td>9</td>\n",
       "      <td>4</td>\n",
       "      <td>0.013</td>\n",
       "    </tr>\n",
       "    <tr>\n",
       "      <th>3</th>\n",
       "      <td>V99787</td>\n",
       "      <td>159</td>\n",
       "      <td>0.005</td>\n",
       "      <td>0.034</td>\n",
       "      <td>4.530</td>\n",
       "      <td>0.737</td>\n",
       "      <td>0.077</td>\n",
       "      <td>0.040</td>\n",
       "      <td>313</td>\n",
       "      <td>44</td>\n",
       "      <td>1401.0</td>\n",
       "      <td>9</td>\n",
       "      <td>4</td>\n",
       "      <td>0.010</td>\n",
       "    </tr>\n",
       "    <tr>\n",
       "      <th>4</th>\n",
       "      <td>V99782</td>\n",
       "      <td>162</td>\n",
       "      <td>0.005</td>\n",
       "      <td>0.042</td>\n",
       "      <td>4.560</td>\n",
       "      <td>0.443</td>\n",
       "      <td>0.056</td>\n",
       "      <td>0.037</td>\n",
       "      <td>360</td>\n",
       "      <td>55</td>\n",
       "      <td>1346.0</td>\n",
       "      <td>10</td>\n",
       "      <td>5</td>\n",
       "      <td>0.013</td>\n",
       "    </tr>\n",
       "    <tr>\n",
       "      <th>5</th>\n",
       "      <td>V99781</td>\n",
       "      <td>165</td>\n",
       "      <td>0.005</td>\n",
       "      <td>0.035</td>\n",
       "      <td>4.520</td>\n",
       "      <td>0.480</td>\n",
       "      <td>0.056</td>\n",
       "      <td>0.037</td>\n",
       "      <td>323</td>\n",
       "      <td>49</td>\n",
       "      <td>1407.0</td>\n",
       "      <td>9</td>\n",
       "      <td>4</td>\n",
       "      <td>0.010</td>\n",
       "    </tr>\n",
       "    <tr>\n",
       "      <th>6</th>\n",
       "      <td>V99779</td>\n",
       "      <td>167</td>\n",
       "      <td>0.005</td>\n",
       "      <td>0.040</td>\n",
       "      <td>4.560</td>\n",
       "      <td>0.630</td>\n",
       "      <td>0.069</td>\n",
       "      <td>0.037</td>\n",
       "      <td>349</td>\n",
       "      <td>51</td>\n",
       "      <td>1395.0</td>\n",
       "      <td>10</td>\n",
       "      <td>5</td>\n",
       "      <td>0.009</td>\n",
       "    </tr>\n",
       "    <tr>\n",
       "      <th>7</th>\n",
       "      <td>V99778</td>\n",
       "      <td>163</td>\n",
       "      <td>0.005</td>\n",
       "      <td>0.040</td>\n",
       "      <td>4.560</td>\n",
       "      <td>0.547</td>\n",
       "      <td>0.057</td>\n",
       "      <td>0.036</td>\n",
       "      <td>346</td>\n",
       "      <td>78</td>\n",
       "      <td>1373.0</td>\n",
       "      <td>9</td>\n",
       "      <td>5</td>\n",
       "      <td>0.012</td>\n",
       "    </tr>\n",
       "    <tr>\n",
       "      <th>8</th>\n",
       "      <td>V99777</td>\n",
       "      <td>164</td>\n",
       "      <td>0.005</td>\n",
       "      <td>0.050</td>\n",
       "      <td>4.500</td>\n",
       "      <td>0.397</td>\n",
       "      <td>0.049</td>\n",
       "      <td>0.037</td>\n",
       "      <td>373</td>\n",
       "      <td>72</td>\n",
       "      <td>1386.0</td>\n",
       "      <td>11</td>\n",
       "      <td>7</td>\n",
       "      <td>0.004</td>\n",
       "    </tr>\n",
       "    <tr>\n",
       "      <th>9</th>\n",
       "      <td>V99776</td>\n",
       "      <td>162</td>\n",
       "      <td>0.005</td>\n",
       "      <td>0.039</td>\n",
       "      <td>4.520</td>\n",
       "      <td>0.622</td>\n",
       "      <td>0.069</td>\n",
       "      <td>0.040</td>\n",
       "      <td>344</td>\n",
       "      <td>56</td>\n",
       "      <td>1357.0</td>\n",
       "      <td>9</td>\n",
       "      <td>5</td>\n",
       "      <td>0.007</td>\n",
       "    </tr>\n",
       "  </tbody>\n",
       "</table>\n",
       "</div>"
      ],
      "text/plain": [
       "   CASTNO  HM_WT  AIM_S   HM_S   HM_C  HM_SI  HM_TI  HM_MN  CAC2  MG  HM_TEMP  \\\n",
       "0  V99790    171  0.005  0.040  4.572  0.518  0.069  0.040   347  49   1387.0   \n",
       "1  V99791    161  0.005  0.035  4.580  0.559  0.070  0.041   361  45   1386.0   \n",
       "2  V99789    170  0.005  0.042  4.590  0.468  0.044  0.036   355  52   1368.0   \n",
       "3  V99787    159  0.005  0.034  4.530  0.737  0.077  0.040   313  44   1401.0   \n",
       "4  V99782    162  0.005  0.042  4.560  0.443  0.056  0.037   360  55   1346.0   \n",
       "5  V99781    165  0.005  0.035  4.520  0.480  0.056  0.037   323  49   1407.0   \n",
       "6  V99779    167  0.005  0.040  4.560  0.630  0.069  0.037   349  51   1395.0   \n",
       "7  V99778    163  0.005  0.040  4.560  0.547  0.057  0.036   346  78   1373.0   \n",
       "8  V99777    164  0.005  0.050  4.500  0.397  0.049  0.037   373  72   1386.0   \n",
       "9  V99776    162  0.005  0.039  4.520  0.622  0.069  0.040   344  56   1357.0   \n",
       "\n",
       "   CAC2_INJ_TIME  MG_INJ_TIME   DS_S  \n",
       "0             10            4  0.009  \n",
       "1             10            4  0.007  \n",
       "2              9            4  0.013  \n",
       "3              9            4  0.010  \n",
       "4             10            5  0.013  \n",
       "5              9            4  0.010  \n",
       "6             10            5  0.009  \n",
       "7              9            5  0.012  \n",
       "8             11            7  0.004  \n",
       "9              9            5  0.007  "
      ]
     },
     "execution_count": 9,
     "metadata": {},
     "output_type": "execute_result"
    }
   ],
   "source": [
    "data_fit.head(10)"
   ]
  },
  {
   "cell_type": "code",
   "execution_count": 10,
   "metadata": {},
   "outputs": [
    {
     "data": {
      "text/plain": [
       "pandas.core.frame.DataFrame"
      ]
     },
     "execution_count": 10,
     "metadata": {},
     "output_type": "execute_result"
    }
   ],
   "source": [
    "type(data_fit)"
   ]
  },
  {
   "cell_type": "code",
   "execution_count": 11,
   "metadata": {},
   "outputs": [],
   "source": [
    "from sklearn.linear_model import LinearRegression\n",
    "from sklearn.model_selection import train_test_split"
   ]
  },
  {
   "cell_type": "code",
   "execution_count": 52,
   "metadata": {},
   "outputs": [],
   "source": [
    "X=data_fit.iloc[:,1:13].values\n",
    "Y=data_fit.iloc[:,13].values"
   ]
  },
  {
   "cell_type": "code",
   "execution_count": 53,
   "metadata": {},
   "outputs": [
    {
     "name": "stdout",
     "output_type": "stream",
     "text": [
      "[[1.710e+02 5.000e-03 4.000e-02 ... 1.387e+03 1.000e+01 4.000e+00]\n",
      " [1.610e+02 5.000e-03 3.500e-02 ... 1.386e+03 1.000e+01 4.000e+00]\n",
      " [1.700e+02 5.000e-03 4.200e-02 ... 1.368e+03 9.000e+00 4.000e+00]\n",
      " ...\n",
      " [1.610e+02 5.000e-03 3.000e-02 ... 1.345e+03 9.000e+00 4.000e+00]\n",
      " [1.550e+02 5.000e-03 5.400e-02 ... 1.415e+03 1.100e+01 6.000e+00]\n",
      " [1.730e+02 5.000e-03 3.200e-02 ... 1.358e+03 8.000e+00 4.000e+00]]\n"
     ]
    }
   ],
   "source": [
    "print(X)"
   ]
  },
  {
   "cell_type": "code",
   "execution_count": 54,
   "metadata": {},
   "outputs": [
    {
     "name": "stdout",
     "output_type": "stream",
     "text": [
      "[0.009 0.007 0.013 ... 0.004 0.008 0.005]\n"
     ]
    }
   ],
   "source": [
    "print(Y)"
   ]
  },
  {
   "cell_type": "code",
   "execution_count": 68,
   "metadata": {},
   "outputs": [],
   "source": [
    "X_train,X_test,Y_train,Y_test=train_test_split(X,Y,test_size=0.2,random_state=13)"
   ]
  },
  {
   "cell_type": "code",
   "execution_count": 69,
   "metadata": {},
   "outputs": [
    {
     "name": "stdout",
     "output_type": "stream",
     "text": [
      "(5357, 12)\n",
      "(1340, 12)\n"
     ]
    }
   ],
   "source": [
    "print(X_train.shape)\n",
    "print(X_test.shape)"
   ]
  },
  {
   "cell_type": "code",
   "execution_count": 70,
   "metadata": {},
   "outputs": [
    {
     "name": "stdout",
     "output_type": "stream",
     "text": [
      "LinearRegression(copy_X=True, fit_intercept=True, n_jobs=None, normalize=True)\n"
     ]
    }
   ],
   "source": [
    "lr=LinearRegression(normalize=True)\n",
    "print(lr)"
   ]
  },
  {
   "cell_type": "code",
   "execution_count": 71,
   "metadata": {},
   "outputs": [
    {
     "data": {
      "text/plain": [
       "LinearRegression(copy_X=True, fit_intercept=True, n_jobs=None, normalize=True)"
      ]
     },
     "execution_count": 71,
     "metadata": {},
     "output_type": "execute_result"
    }
   ],
   "source": [
    "lr.fit(X_train,Y_train)"
   ]
  },
  {
   "cell_type": "code",
   "execution_count": 72,
   "metadata": {},
   "outputs": [
    {
     "name": "stdout",
     "output_type": "stream",
     "text": [
      "-0.0049753060622914815\n",
      "[ 1.78652931e-05  2.35794608e-01  1.42729331e-01  1.84366560e-03\n",
      "  2.83989378e-03 -1.14286400e-01 -2.52265008e-02  6.42677411e-07\n",
      " -9.70815218e-05  6.94774194e-06 -5.14857398e-04  2.24877956e-04]\n"
     ]
    }
   ],
   "source": [
    "print(lr.intercept_)\n",
    "print(lr.coef_)"
   ]
  },
  {
   "cell_type": "code",
   "execution_count": 73,
   "metadata": {},
   "outputs": [
    {
     "name": "stdout",
     "output_type": "stream",
     "text": [
      "0.3959911901664378\n"
     ]
    }
   ],
   "source": [
    "print(lr.score(X_train,Y_train))"
   ]
  },
  {
   "cell_type": "code",
   "execution_count": 74,
   "metadata": {},
   "outputs": [
    {
     "name": "stdout",
     "output_type": "stream",
     "text": [
      "0.37288269676090424\n"
     ]
    }
   ],
   "source": [
    "print(lr.score(X_test,Y_test))"
   ]
  },
  {
   "cell_type": "code",
   "execution_count": 75,
   "metadata": {},
   "outputs": [],
   "source": [
    "from sklearn.model_selection import cross_val_score"
   ]
  },
  {
   "cell_type": "code",
   "execution_count": 76,
   "metadata": {},
   "outputs": [],
   "source": [
    "scores=cross_val_score(lr,X_train,Y_train,cv=10,scoring='r2')"
   ]
  },
  {
   "cell_type": "code",
   "execution_count": 77,
   "metadata": {},
   "outputs": [
    {
     "name": "stdout",
     "output_type": "stream",
     "text": [
      "[0.33945454 0.3513734  0.33776573 0.41367173 0.3926004  0.40709098\n",
      " 0.37618944 0.40294373 0.41418107 0.45038874]\n"
     ]
    }
   ],
   "source": [
    "print(scores)"
   ]
  },
  {
   "cell_type": "code",
   "execution_count": 78,
   "metadata": {},
   "outputs": [],
   "source": [
    "Y_predict=lr.predict(X_test)"
   ]
  },
  {
   "cell_type": "code",
   "execution_count": 79,
   "metadata": {},
   "outputs": [
    {
     "name": "stdout",
     "output_type": "stream",
     "text": [
      "0.8761194029850746\n"
     ]
    }
   ],
   "source": [
    "# Calculating Accuracy\n",
    "score=0\n",
    "temp=0\n",
    "for i in range(temp1):\n",
    "    temp=Y_test[i]-Y_predict[i]\n",
    "    if(temp>-0.003 and temp<0.003):\n",
    "        score=score+1\n",
    "score=score/(temp1)\n",
    "print(score)\n",
    "    "
   ]
  },
  {
   "cell_type": "code",
   "execution_count": 67,
   "metadata": {},
   "outputs": [
    {
     "name": "stdout",
     "output_type": "stream",
     "text": [
      "1340\n"
     ]
    }
   ],
   "source": [
    "temp1=Y_test.shape[0]\n",
    "print(temp1)\n"
   ]
  },
  {
   "cell_type": "code",
   "execution_count": null,
   "metadata": {},
   "outputs": [],
   "source": []
  },
  {
   "cell_type": "code",
   "execution_count": 86,
   "metadata": {},
   "outputs": [],
   "source": [
    "P_train,P_test,Q_train,Q_test=train_test_split(P,Q,test_size=0.2,random_state=5)"
   ]
  },
  {
   "cell_type": "code",
   "execution_count": 87,
   "metadata": {},
   "outputs": [
    {
     "data": {
      "text/plain": [
       "LinearRegression(copy_X=True, fit_intercept=True, n_jobs=None, normalize=False)"
      ]
     },
     "execution_count": 87,
     "metadata": {},
     "output_type": "execute_result"
    }
   ],
   "source": [
    "lin_model=LinearRegression()\n",
    "lin_model.fit(P_train,Q_train)"
   ]
  },
  {
   "cell_type": "code",
   "execution_count": 88,
   "metadata": {},
   "outputs": [
    {
     "name": "stdout",
     "output_type": "stream",
     "text": [
      "0.26964510911151574\n"
     ]
    }
   ],
   "source": [
    "print(lin_model.score(P_train,Q_train))"
   ]
  },
  {
   "cell_type": "code",
   "execution_count": 89,
   "metadata": {},
   "outputs": [
    {
     "name": "stdout",
     "output_type": "stream",
     "text": [
      "0.293069422418734\n"
     ]
    }
   ],
   "source": [
    "print(lin_model.score(P_test,Q_test))"
   ]
  },
  {
   "cell_type": "code",
   "execution_count": 90,
   "metadata": {},
   "outputs": [],
   "source": [
    "columns_to_drop=[\"HM_TI\",\"HM_MN\",\"CASTNO\",\"DS_S\"]\n",
    "X=data_fit.drop(columns_to_drop,axis=1)"
   ]
  },
  {
   "cell_type": "code",
   "execution_count": 91,
   "metadata": {},
   "outputs": [
    {
     "name": "stdout",
     "output_type": "stream",
     "text": [
      "(6697, 10)\n"
     ]
    }
   ],
   "source": [
    "print(X.shape)"
   ]
  },
  {
   "cell_type": "code",
   "execution_count": 92,
   "metadata": {},
   "outputs": [
    {
     "data": {
      "text/html": [
       "<div>\n",
       "<style scoped>\n",
       "    .dataframe tbody tr th:only-of-type {\n",
       "        vertical-align: middle;\n",
       "    }\n",
       "\n",
       "    .dataframe tbody tr th {\n",
       "        vertical-align: top;\n",
       "    }\n",
       "\n",
       "    .dataframe thead th {\n",
       "        text-align: right;\n",
       "    }\n",
       "</style>\n",
       "<table border=\"1\" class=\"dataframe\">\n",
       "  <thead>\n",
       "    <tr style=\"text-align: right;\">\n",
       "      <th></th>\n",
       "      <th>HM_WT</th>\n",
       "      <th>AIM_S</th>\n",
       "      <th>HM_S</th>\n",
       "      <th>HM_C</th>\n",
       "      <th>HM_SI</th>\n",
       "      <th>CAC2</th>\n",
       "      <th>MG</th>\n",
       "      <th>HM_TEMP</th>\n",
       "      <th>CAC2_INJ_TIME</th>\n",
       "      <th>MG_INJ_TIME</th>\n",
       "    </tr>\n",
       "  </thead>\n",
       "  <tbody>\n",
       "    <tr>\n",
       "      <th>0</th>\n",
       "      <td>171</td>\n",
       "      <td>0.005</td>\n",
       "      <td>0.040</td>\n",
       "      <td>4.572</td>\n",
       "      <td>0.518</td>\n",
       "      <td>347</td>\n",
       "      <td>49</td>\n",
       "      <td>1387.0</td>\n",
       "      <td>10</td>\n",
       "      <td>4</td>\n",
       "    </tr>\n",
       "    <tr>\n",
       "      <th>1</th>\n",
       "      <td>161</td>\n",
       "      <td>0.005</td>\n",
       "      <td>0.035</td>\n",
       "      <td>4.580</td>\n",
       "      <td>0.559</td>\n",
       "      <td>361</td>\n",
       "      <td>45</td>\n",
       "      <td>1386.0</td>\n",
       "      <td>10</td>\n",
       "      <td>4</td>\n",
       "    </tr>\n",
       "    <tr>\n",
       "      <th>2</th>\n",
       "      <td>170</td>\n",
       "      <td>0.005</td>\n",
       "      <td>0.042</td>\n",
       "      <td>4.590</td>\n",
       "      <td>0.468</td>\n",
       "      <td>355</td>\n",
       "      <td>52</td>\n",
       "      <td>1368.0</td>\n",
       "      <td>9</td>\n",
       "      <td>4</td>\n",
       "    </tr>\n",
       "    <tr>\n",
       "      <th>3</th>\n",
       "      <td>159</td>\n",
       "      <td>0.005</td>\n",
       "      <td>0.034</td>\n",
       "      <td>4.530</td>\n",
       "      <td>0.737</td>\n",
       "      <td>313</td>\n",
       "      <td>44</td>\n",
       "      <td>1401.0</td>\n",
       "      <td>9</td>\n",
       "      <td>4</td>\n",
       "    </tr>\n",
       "    <tr>\n",
       "      <th>4</th>\n",
       "      <td>162</td>\n",
       "      <td>0.005</td>\n",
       "      <td>0.042</td>\n",
       "      <td>4.560</td>\n",
       "      <td>0.443</td>\n",
       "      <td>360</td>\n",
       "      <td>55</td>\n",
       "      <td>1346.0</td>\n",
       "      <td>10</td>\n",
       "      <td>5</td>\n",
       "    </tr>\n",
       "  </tbody>\n",
       "</table>\n",
       "</div>"
      ],
      "text/plain": [
       "   HM_WT  AIM_S   HM_S   HM_C  HM_SI  CAC2  MG  HM_TEMP  CAC2_INJ_TIME  \\\n",
       "0    171  0.005  0.040  4.572  0.518   347  49   1387.0             10   \n",
       "1    161  0.005  0.035  4.580  0.559   361  45   1386.0             10   \n",
       "2    170  0.005  0.042  4.590  0.468   355  52   1368.0              9   \n",
       "3    159  0.005  0.034  4.530  0.737   313  44   1401.0              9   \n",
       "4    162  0.005  0.042  4.560  0.443   360  55   1346.0             10   \n",
       "\n",
       "   MG_INJ_TIME  \n",
       "0            4  \n",
       "1            4  \n",
       "2            4  \n",
       "3            4  \n",
       "4            5  "
      ]
     },
     "execution_count": 92,
     "metadata": {},
     "output_type": "execute_result"
    }
   ],
   "source": [
    "X.head()"
   ]
  },
  {
   "cell_type": "code",
   "execution_count": 93,
   "metadata": {},
   "outputs": [],
   "source": [
    "X=X.values"
   ]
  },
  {
   "cell_type": "code",
   "execution_count": 102,
   "metadata": {},
   "outputs": [],
   "source": [
    "Q_predict=lin_model.predict(P_test)"
   ]
  },
  {
   "cell_type": "code",
   "execution_count": 103,
   "metadata": {},
   "outputs": [
    {
     "name": "stdout",
     "output_type": "stream",
     "text": [
      "[0.00740143 0.01001698 0.00809541 ... 0.00712594 0.00869063 0.00588809]\n"
     ]
    }
   ],
   "source": [
    "print(Q_predict)"
   ]
  },
  {
   "cell_type": "code",
   "execution_count": 105,
   "metadata": {},
   "outputs": [
    {
     "data": {
      "text/plain": [
       "5072    0.008\n",
       "2509    0.010\n",
       "6521    0.009\n",
       "2956    0.010\n",
       "4548    0.007\n",
       "Name: DS_S, dtype: float64"
      ]
     },
     "execution_count": 105,
     "metadata": {},
     "output_type": "execute_result"
    }
   ],
   "source": [
    "Q_test.head()"
   ]
  },
  {
   "cell_type": "code",
   "execution_count": 107,
   "metadata": {},
   "outputs": [
    {
     "name": "stdout",
     "output_type": "stream",
     "text": [
      "(1340,)\n",
      "(1340,)\n"
     ]
    }
   ],
   "source": [
    "print(Q_predict.shape)\n",
    "print(Q_test.shape)"
   ]
  },
  {
   "cell_type": "code",
   "execution_count": 108,
   "metadata": {},
   "outputs": [],
   "source": [
    "temp1=Q_test.shape[0]"
   ]
  },
  {
   "cell_type": "code",
   "execution_count": 109,
   "metadata": {},
   "outputs": [
    {
     "name": "stdout",
     "output_type": "stream",
     "text": [
      "1340\n"
     ]
    }
   ],
   "source": [
    "print(temp1)"
   ]
  },
  {
   "cell_type": "code",
   "execution_count": 113,
   "metadata": {},
   "outputs": [
    {
     "ename": "AttributeError",
     "evalue": "'numpy.ndarray' object has no attribute 'values'",
     "output_type": "error",
     "traceback": [
      "\u001b[1;31m---------------------------------------------------------------------------\u001b[0m",
      "\u001b[1;31mAttributeError\u001b[0m                            Traceback (most recent call last)",
      "\u001b[1;32m<ipython-input-113-b78378e4ed2e>\u001b[0m in \u001b[0;36m<module>\u001b[1;34m\u001b[0m\n\u001b[0;32m      1\u001b[0m \u001b[0mQ_test\u001b[0m\u001b[1;33m=\u001b[0m\u001b[0mQ_test\u001b[0m\u001b[1;33m.\u001b[0m\u001b[0mvalues\u001b[0m\u001b[1;33m\u001b[0m\u001b[0m\n\u001b[1;32m----> 2\u001b[1;33m \u001b[0mQ_predict\u001b[0m\u001b[1;33m=\u001b[0m\u001b[0mQ_predict\u001b[0m\u001b[1;33m.\u001b[0m\u001b[0mvalues\u001b[0m\u001b[1;33m\u001b[0m\u001b[0m\n\u001b[0m",
      "\u001b[1;31mAttributeError\u001b[0m: 'numpy.ndarray' object has no attribute 'values'"
     ]
    }
   ],
   "source": [
    "Q_test=Q_test.values\n",
    "Q_predict=Q_predict.values"
   ]
  },
  {
   "cell_type": "code",
   "execution_count": 114,
   "metadata": {},
   "outputs": [
    {
     "name": "stdout",
     "output_type": "stream",
     "text": [
      "0.8395522388059702\n"
     ]
    }
   ],
   "source": [
    "# Calculating Accuracy\n",
    "score=0\n",
    "temp=0\n",
    "for i in range(temp1):\n",
    "    temp=Q_test[i]-Q_predict[i]\n",
    "    if(temp>-0.003 and temp<0.003):\n",
    "        score=score+1\n",
    "score=score/(temp1)\n",
    "print(score)\n",
    "    "
   ]
  },
  {
   "cell_type": "code",
   "execution_count": null,
   "metadata": {},
   "outputs": [],
   "source": []
  }
 ],
 "metadata": {
  "kernelspec": {
   "display_name": "Python 3",
   "language": "python",
   "name": "python3"
  },
  "language_info": {
   "codemirror_mode": {
    "name": "ipython",
    "version": 3
   },
   "file_extension": ".py",
   "mimetype": "text/x-python",
   "name": "python",
   "nbconvert_exporter": "python",
   "pygments_lexer": "ipython3",
   "version": "3.6.5"
  }
 },
 "nbformat": 4,
 "nbformat_minor": 2
}
