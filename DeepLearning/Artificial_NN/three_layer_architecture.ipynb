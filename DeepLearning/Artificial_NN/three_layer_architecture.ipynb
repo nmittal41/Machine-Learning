{
 "cells": [
  {
   "cell_type": "code",
   "execution_count": 4,
   "metadata": {},
   "outputs": [],
   "source": [
    "import numpy as np"
   ]
  },
  {
   "cell_type": "code",
   "execution_count": 2,
   "metadata": {},
   "outputs": [],
   "source": [
    "input_size=3\n",
    "layers=[4,3]\n",
    "output_size=2"
   ]
  },
  {
   "cell_type": "code",
   "execution_count": 4,
   "metadata": {},
   "outputs": [],
   "source": [
    "def softmax(a):\n",
    "    e_pa=np.exp(a)\n",
    "    ans=e_pa/np.sum(eq,axis=1,keepdims=True)\n",
    "    "
   ]
  },
  {
   "cell_type": "code",
   "execution_count": 13,
   "metadata": {},
   "outputs": [],
   "source": [
    "class Neuralnetwork:\n",
    "    \n",
    "    \n",
    "    def __init__(self,input_size,layers,output_size):\n",
    "        np.random.seed(0)\n",
    "    \n",
    "        model={}\n",
    "        #First layer\n",
    "        model['w1']=np.random.randn(input_size,layers[0])\n",
    "        model['b1']=np.zeros((1,layers[0]))\n",
    "    \n",
    "        #Second layer\n",
    "        model['w2']=np.random.randn(layers[0],layers[1])\n",
    "        model['b2']=np.zeros((1,layers[0]))\n",
    "        #Third layer\n",
    "        model['w3']=np.random.randn(layers[1],output_size)\n",
    "        model['b3']=np.zeros((1,output_size))\n",
    "    \n",
    "        self.model=model\n",
    "    \n",
    "    def forward(self,x):\n",
    "            \n",
    "            w1,w2,w3=self.model['w1'],self.model['w2'],self.model['w3']\n",
    "            b1,b2,b3=self.model['b1'],self.model['b2'],self.model['b3']\n",
    "            \n",
    "            z1=np.dot(x,w1)+b1\n",
    "            a1=np.tanh(z1)\n",
    "            \n",
    "            z2=np.dot(a1,w2)+b2\n",
    "            a2=np.tanh(z2)\n",
    "            \n",
    "            z3=np.dot(a2,w3)+b3\n",
    "            y_=softmax(z3)\n",
    "            \n",
    "    "
   ]
  },
  {
   "cell_type": "code",
   "execution_count": null,
   "metadata": {},
   "outputs": [],
   "source": []
  },
  {
   "cell_type": "code",
   "execution_count": null,
   "metadata": {},
   "outputs": [],
   "source": []
  },
  {
   "cell_type": "code",
   "execution_count": null,
   "metadata": {},
   "outputs": [],
   "source": []
  }
 ],
 "metadata": {
  "kernelspec": {
   "display_name": "Python 3",
   "language": "python",
   "name": "python3"
  },
  "language_info": {
   "codemirror_mode": {
    "name": "ipython",
    "version": 3
   },
   "file_extension": ".py",
   "mimetype": "text/x-python",
   "name": "python",
   "nbconvert_exporter": "python",
   "pygments_lexer": "ipython3",
   "version": "3.6.5"
  }
 },
 "nbformat": 4,
 "nbformat_minor": 2
}
